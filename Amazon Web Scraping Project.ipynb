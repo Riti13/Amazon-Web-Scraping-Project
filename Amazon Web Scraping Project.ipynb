{
 "cells": [
  {
   "cell_type": "code",
   "execution_count": 1,
   "id": "c7ed355c-f375-4850-a6dc-909884cfa9bd",
   "metadata": {},
   "outputs": [],
   "source": [
    "from bs4 import BeautifulSoup\n",
    "import requests\n",
    "import time\n",
    "import datetime\n",
    "\n",
    "import smtplib    #library used to send emails to yourself"
   ]
  },
  {
   "cell_type": "code",
   "execution_count": 2,
   "id": "d862ed63-a481-4a07-b138-8ec76be44821",
   "metadata": {},
   "outputs": [
    {
     "name": "stdout",
     "output_type": "stream",
     "text": [
      "\n",
      "                    Funny Got Data MIS Data Systems Business Analyst T-Shirt\n",
      "                   \n",
      "\n",
      "\n",
      "                        4.2 out of 5 stars\n",
      "                       \n",
      "\n"
     ]
    }
   ],
   "source": [
    "# Connect to Website and pull in data\n",
    "\n",
    "URL = 'https://www.amazon.com/Funny-Data-Systems-Business-Analyst/dp/B07FNW9FGJ/ref=sr_1_3?dchild=1&keywords=data%2Banalyst%2Btshirt&qid=1626655184&sr=8-3&customId=B0752XJYNL&th=1'\n",
    "\n",
    "headers = {\"User-Agent\": \"Mozilla/5.0 (Windows NT 10.0; Win64; x64) AppleWebKit/537.36 (KHTML, like Gecko) Chrome/78.0.3904.108 Safari/537.36\", \"Accept-Encoding\":\"gzip, deflate\", \"Accept\":\"text/html,application/xhtml+xml,application/xml;q=0.9,*/*;q=0.8\", \"DNT\":\"1\",\"Connection\":\"close\", \"Upgrade-Insecure-Requests\":\"1\"}\n",
    "\n",
    "page = requests.get(URL,headers=headers)\n",
    "\n",
    "soup1 = BeautifulSoup(page.content, 'html.parser')\n",
    "\n",
    "soup2 = BeautifulSoup(soup1.prettify(), 'html.parser')\n",
    "\n",
    "title = soup2.find(id= 'productTitle',class_=\"a-size-large product-title-word-break\").get_text()\n",
    "\n",
    "rating = soup2.find(class_=\"a-icon a-icon-star a-star-4 cm-cr-review-stars-spacing-big\").get_text()\n",
    "\n",
    "print(title)\n",
    "print(rating)\n"
   ]
  },
  {
   "cell_type": "code",
   "execution_count": 3,
   "id": "073dd1a2-7639-42ad-b9f0-a3328593751b",
   "metadata": {},
   "outputs": [
    {
     "name": "stdout",
     "output_type": "stream",
     "text": [
      "Funny Got Data MIS Data Systems Business Analyst T-Shirt\n",
      "4.2 \n",
      "2024-09-13\n"
     ]
    }
   ],
   "source": [
    "title = title.strip()\n",
    "rating=rating.strip()[:4]\n",
    "\n",
    "today = datetime.date.today()\n",
    "\n",
    "print(title)\n",
    "print(rating)\n",
    "print(today)"
   ]
  },
  {
   "cell_type": "code",
   "execution_count": 4,
   "id": "0aeaaa3e-af32-4b8e-96a8-9961083e2745",
   "metadata": {},
   "outputs": [],
   "source": [
    "# creating csv to parse values to it.\n",
    "\n",
    "import csv\n",
    "\n",
    "header =['ProductTitle','Rating','Date']\n",
    "data =[title, rating,today]\n",
    "\n",
    "with open('amazonwebscrapingdataset.csv', 'w', newline= '', encoding = 'UTF8') as f:     #creating csv\n",
    "    writer = csv.writer(f)       \n",
    "    writer.writerow(header)          #inserting header and data\n",
    "    writer.writerow(data)\n",
    "    "
   ]
  },
  {
   "cell_type": "code",
   "execution_count": 5,
   "id": "95019beb-bcd1-4972-aa60-0adeb2d8f2cf",
   "metadata": {},
   "outputs": [],
   "source": [
    "# appending values\n",
    "\n",
    "with open('amazonwebscrapingdataset.csv', 'a+', newline= '', encoding = 'UTF8') as f:     #creating csv\n",
    "    writer = csv.writer(f)                \n",
    "    writer.writerow(data)"
   ]
  },
  {
   "cell_type": "code",
   "execution_count": 7,
   "id": "f8cfdbba-e0ee-4e81-a4ad-db11cffcbcd9",
   "metadata": {},
   "outputs": [],
   "source": [
    "def check_price():\n",
    "    URL = 'https://www.amazon.com/Funny-Data-Systems-Business-Analyst/dp/B07FNW9FGJ/ref=sr_1_3?dchild=1&keywords=data%2Banalyst%2Btshirt&qid=1626655184&sr=8-3&customId=B0752XJYNL&th=1'\n",
    "\n",
    "    headers = {\"User-Agent\": \"Mozilla/5.0 (Windows NT 10.0; Win64; x64) AppleWebKit/537.36 (KHTML, like Gecko) Chrome/78.0.3904.108 Safari/537.36\", \"Accept-Encoding\":\"gzip, deflate\", \"Accept\":\"text/html,application/xhtml+xml,application/xml;q=0.9,*/*;q=0.8\", \"DNT\":\"1\",\"Connection\":\"close\", \"Upgrade-Insecure-Requests\":\"1\"}\n",
    "\n",
    "    page = requests.get(URL,headers=headers)\n",
    "\n",
    "    soup1 = BeautifulSoup(page.content, 'html.parser')\n",
    "\n",
    "    soup2 = BeautifulSoup(soup1.prettify(), 'html.parser')\n",
    "\n",
    "    title = soup2.find(id= 'productTitle',class_=\"a-size-large product-title-word-break\").get_text()\n",
    "\n",
    "    rating = soup2.find(class_=\"a-icon a-icon-star a-star-4 cm-cr-review-stars-spacing-big\").get_text()\n",
    "\n",
    "    title = title.strip()\n",
    "    rating=rating.strip()[:4]\n",
    "\n",
    "    today = datetime.date.today()\n",
    "\n",
    "    import csv\n",
    "\n",
    "    header =['ProductTitle','Rating','Date']\n",
    "    data =[title, rating,today]\n",
    "\n",
    "    with open('amazonwebscrapingdataset.csv', 'a+', newline= '', encoding = 'UTF8') as f:     #creating csv\n",
    "        writer = csv.writer(f)                \n",
    "        writer.writerow(data)"
   ]
  },
  {
   "cell_type": "code",
   "execution_count": null,
   "id": "bd5a5563-a065-4f48-a4d7-bd6dcdd5c6bd",
   "metadata": {},
   "outputs": [],
   "source": [
    "# to check price every single day automaticaly\n",
    "\n",
    "while(True):\n",
    "    check_price()\n",
    "    time.sleep(86400)"
   ]
  },
  {
   "cell_type": "code",
   "execution_count": null,
   "id": "8aaaa60b-2dde-4a1e-a909-fa25694c2264",
   "metadata": {},
   "outputs": [],
   "source": []
  }
 ],
 "metadata": {
  "kernelspec": {
   "display_name": "Python 3 (ipykernel)",
   "language": "python",
   "name": "python3"
  },
  "language_info": {
   "codemirror_mode": {
    "name": "ipython",
    "version": 3
   },
   "file_extension": ".py",
   "mimetype": "text/x-python",
   "name": "python",
   "nbconvert_exporter": "python",
   "pygments_lexer": "ipython3",
   "version": "3.12.5"
  }
 },
 "nbformat": 4,
 "nbformat_minor": 5
}
